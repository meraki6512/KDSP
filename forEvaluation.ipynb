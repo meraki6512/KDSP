{
 "cells": [
  {
   "cell_type": "code",
   "execution_count": 2,
   "id": "47ec135e",
   "metadata": {},
   "outputs": [],
   "source": [
    "import pandas as pd\n",
    "import numpy as np\n",
    "import math\n",
    "from sklearn.cluster import KMeans\n",
    "from sklearn.metrics.pairwise import cosine_similarity\n",
    "import folium\n",
    "\n",
    "PATH = \"Project3_Data\\dataset_NYC.txt\"\n",
    "columns = ['UserID', 'VenueID', 'VenueCategoryID', 'VenueCategoryName', 'Latitude', 'Longitude', 'TimezoneOffsetInMin',\n",
    "           'UTCTime']\n",
    "df = pd.read_csv(PATH, sep=\"\\t\", encoding_errors='ignore', names=columns)\n",
    "\n",
    "\n",
    "# 1.\n",
    "# goal of the task: recommend 10 unvisited locations to given UID having similar category with given CategoryID\n",
    "# @input: random UID, CategoryID\n",
    "# @output: VenueID(location) list\n",
    "\n",
    "def recommendVenueFromIDandCategory(inputUserID, inputCategory):\n",
    "    clustered = clusterCategories()\n",
    "    corr = getSimilarCategories(inputCategory, clustered)\n",
    "    freq_category = getFreqCategory(inputUserID)\n",
    "    freq_loc = getFreqLoc(freq_category)\n",
    "    h, l = getOutlier(freq_loc['per'])\n",
    "\n",
    "    # To select places that are not outliers calculated previously, create a standard value 'per' as a latitude/longitude ratio\n",
    "    df['per'] = df['Latitude'] / df['Longitude']\n",
    "    # Places close to previously found places & places not visited by the entered user ID\n",
    "    candidate = df.loc[(l < df['per']) & (h > df['per']) & (df['UserID'] != inputUserID)]\n",
    "\n",
    "    # Sorting in the order of places in the category found initially: The reason for sorting rather than selecting is that the selected places have similar conditions, so randomly selecting 10 of them can provide more diverse recommendations to users.\n",
    "    i = 0\n",
    "    for i in range(len(corr)):\n",
    "        if i == 0:\n",
    "            recommend = candidate[candidate['VenueCategoryName'] == corr.index[i]]\n",
    "        else:\n",
    "            recommend = pd.concat([recommend, candidate[candidate['VenueCategoryName'] == corr.index[i]]], axis=0)\n",
    "\n",
    "    # To recommend VenueID(location) list, drop duplicates of VenueID\n",
    "    recommend.drop_duplicates('VenueID', inplace=True)\n",
    "    recommend = recommend[['VenueID', 'VenueCategoryName', 'Latitude', 'Longitude']]\n",
    "\n",
    "    # it now recommends 10 top places from the df\n",
    "    # might be fixed to recommend in various way\n",
    "    recommend = recommend.head(10).values.tolist()\n",
    "    return recommend\n",
    "\n",
    "\n",
    "def getFreqCategory(inputUserID):\n",
    "    # reframe data from UserID and VenueCategoryID\n",
    "    gdf_categoryID = df.groupby(['UserID', 'VenueCategoryID']).size().reset_index()\n",
    "    gdf_categoryID.columns = ['UserID', 'VenueCategoryID', 'N']\n",
    "    re_user = pd.pivot_table(gdf_categoryID, index='UserID', columns='VenueCategoryID', values='N', fill_value=0)\n",
    "\n",
    "    # make temporal data frame to count how many times inputUserId visit each places\n",
    "    temp = re_user[re_user.index == inputUserID].transpose()\n",
    "    # drop places where count = 0\n",
    "    temp = temp[temp[inputUserID] != 0]\n",
    "\n",
    "    # VenueCategoryID -> VenueCategoryName (to show data easily)\n",
    "    temp_id = list()\n",
    "    for _id in temp.index:\n",
    "        temp_id.append(find_category_name_by_id(_id))\n",
    "    temp['VenueCategoryName'] = temp_id\n",
    "\n",
    "    # sort by visit frequencies\n",
    "    temp = temp.sort_values(inputUserID, ascending=False)\n",
    "    # drop places where freqeuncy < mean\n",
    "    m = temp[inputUserID].mean()\n",
    "    temp = temp[m < temp[inputUserID]]\n",
    "\n",
    "    return temp\n",
    "\n",
    "\n",
    "# Function that returns a data frame containing latitude and longitude information of places that inputUserID frequently visits\n",
    "def getFreqLoc(freq_category):\n",
    "    ## Based on frequency data, extract radius data of places frequented by users from actual latitude and longitude data\n",
    "\n",
    "    # lat, lon info from places that inputUserID frequently visits data (freq.index: Category info of frequently visited places)\n",
    "    freq_loc = pd.DataFrame()\n",
    "    for _id in freq_category.index:\n",
    "        _temp = df[df['VenueCategoryID'] == _id][['Latitude', 'Longitude']]\n",
    "        freq_loc = pd.concat([freq_loc, _temp], axis=0)\n",
    "\n",
    "    # drop duplicates of lat, lon (precise location info) : location info rather than frequency info will be used\n",
    "    freq_loc = freq_loc.drop_duplicates(['Latitude', 'Longitude'])\n",
    "\n",
    "    # Removing outliers (excluding too far places)\n",
    "    # To calculate outliers, use the ratio of latitude and longitude to create a reference value\n",
    "    freq_loc['per'] = freq_loc['Latitude'] / freq_loc['Longitude']\n",
    "\n",
    "    return freq_loc\n",
    "\n",
    "\n",
    "# Function that calculate IQR from given data and return its reference value\n",
    "def getOutlier(data):\n",
    "\n",
    "    # Q1 - 1.5 * IQR = lowest, Q3 + 1.5 * IQR = highest (IQR = Q3 - Q1)\n",
    "    q1 = data.quantile(0.25)\n",
    "    q3 = data.quantile(0.75)\n",
    "    iqr = q3 - q1\n",
    "\n",
    "    h = q3 + 1.5 * iqr\n",
    "    l = q1 - 1.5 * iqr\n",
    "\n",
    "    return h, l\n",
    "\n",
    "\n",
    "# Function that extracts only data belonging to the same cluster as inputCategory and returns data sorted in a similarity.\n",
    "def getSimilarCategories(inputCategory, similar):\n",
    "    # Extract frequently visited categories belonging to the same cluster as inputCategory\n",
    "    # get cluster of inputCategory\n",
    "    inputCluster = similar[similar.index == inputCategory]['cluster'][inputCategory]\n",
    "\n",
    "    # pick data which have same cluster as input cluster\n",
    "    similar = similar[similar['cluster'] == inputCluster]\n",
    "\n",
    "    # sort by abs of differences\n",
    "    similar['diff'] = similar['sum'].sub(similar[similar.index == inputCategory]['sum'][inputCategory]).abs()\n",
    "    similar = similar.sort_values('diff')\n",
    "\n",
    "    # drop where the value >= mean\n",
    "    m = similar['diff'].mean()\n",
    "    similar = similar[m > similar['diff']]\n",
    "\n",
    "    return similar\n",
    "\n",
    "\n",
    "# Function that clusters based on the frequency of visits for each place category and returns numbered data for places with similar visit frequencies\n",
    "def clusterCategories():\n",
    "    # reframe data by UserID, VenueCategoryName, and the frequency of visiting\n",
    "    gdf = df.groupby(['UserID', 'VenueCategoryName']).size().reset_index()\n",
    "    gdf.columns = ['UserID', 'VenueCategoryName', 'N']\n",
    "    re_category = pd.pivot_table(gdf, index='VenueCategoryName', columns='UserID', values='N', fill_value=0)\n",
    "\n",
    "    # Value correction: Find the percentage of frequency for each place category.\n",
    "    corr = re_category.div(re_category.sum(axis=0)).mul(100)\n",
    "    # to make calculations more convenient later, add up the numbers for each location.\n",
    "    corr['sum'] = corr.sum(axis=1)\n",
    "\n",
    "    ## cluster by corr['sum'] (= added freq for each location)\n",
    "\n",
    "    # 10% sampling\n",
    "    X_sample = corr[['sum']].sample(frac=0.1)\n",
    "    # n in KMeans = sqrt of (data length/2)\n",
    "    n = math.ceil(math.sqrt(corr.shape[0] / 2))\n",
    "    # KMeans Clustering\n",
    "    kmeans = KMeans(n_clusters=n, init='k-means++')\n",
    "    kmeans.fit(X_sample)\n",
    "    y = kmeans.labels_\n",
    "    # add cluster number to data\n",
    "    corr['cluster'] = kmeans.predict(corr[['sum']])\n",
    "\n",
    "    return corr\n",
    "\n",
    "\n",
    "# Function that finds VenueCategoryName by venueCategoryID\n",
    "def find_category_name_by_id(_id):\n",
    "    # drop duplicates of venueCategoryID: to find matching venueCategoryName easily\n",
    "    df_unique_categoryID = df.drop_duplicates('VenueCategoryID')\n",
    "\n",
    "    temp_cat = df_unique_categoryID[df_unique_categoryID['VenueCategoryID'] == _id]\n",
    "    temp_cat.reset_index(drop=True, inplace=True)\n",
    "\n",
    "    return temp_cat['VenueCategoryName'][0]\n",
    "\n",
    "\n",
    "# 2.\n",
    "# goal of the task: recommend the 10 most similar users with a randomly given user\n",
    "# @input param: randomly given UserID\n",
    "# @expected output: top 10 UserIds list with the most similar, interests match\n",
    "\n",
    "def recommendUsersFromID(inputUserID):\n",
    "    gdf = df.groupby(['UserID', 'VenueCategoryName']).size().reset_index()\n",
    "    gdf.columns = ['UserID', 'VenueCategoryName', 'N']\n",
    "    re_category = pd.pivot_table(gdf, index='VenueCategoryName', columns='UserID', values='N', fill_value=0)\n",
    "    freq_id = re_category.transpose()\n",
    "\n",
    "    # Cosine similarity: A method of calculating similarity using the angle between vectors; the closer the value is to 1, the more similar it is.\n",
    "    # Calculate cosine similarity for each ID and retrieve the cosine similarity vector corresponding to the input userID\n",
    "    freq_id['cos'] = cosine_similarity(freq_id)[inputUserID]\n",
    "\n",
    "    # Sort the values in descending order, exclude the entered userID, and select the remaining top 10.\n",
    "    most_similar = freq_id.sort_values('cos', ascending=False)[1:11].index\n",
    "\n",
    "    return most_similar.values.tolist()\n",
    "\n",
    "\n",
    "# 3.\n",
    "# goal of the task: recommend meeting point with 5 randomly given users and their locations\n",
    "# @input param: randomly given 5 UserIDs and their locations (Latitude, Longitude)\n",
    "# @expected output: the location of recommended meeting point\n",
    "\n",
    "# visualization\n",
    "# Function that visually displays the locations of the original userID and suggested locations\n",
    "def showMap(inputUserIDs, inputLocs, meetingPoint):\n",
    "    mid = inputLocs.transpose().mean(axis=1)\n",
    "    m = folium.Map(location=mid, zoom_start=10)\n",
    "\n",
    "    for i in range(5):\n",
    "        folium.Marker(inputLocs[i], tooltip=inputUserIDs[i]).add_to(m)\n",
    "\n",
    "    folium.Marker(meetingPoint,\n",
    "                  icon=folium.Icon(color='red', icon='star'),\n",
    "                  tooltip='suggestPoint').add_to(m)\n",
    "\n",
    "    return m\n",
    "\n",
    "\n",
    "# Function that suggests the optimal meeting location from 5 userIDs and each location\n",
    "def recommendMeetingPointFromIDsandLocs(inputUserIDs, inputLocs):\n",
    "    # find mid point from 5 locations\n",
    "    mid = inputLocs.transpose().mean(axis=1)\n",
    "\n",
    "    # find VenueCategoryNames that suit each userID's tastes\n",
    "    freq_categories = pd.DataFrame(columns=inputUserIDs)\n",
    "    for i in range(5):\n",
    "        temp = getFreqCategory(inputUserIDs[i])['VenueCategoryName']\n",
    "        freq_categories = pd.concat([freq_categories, temp], axis=1)\n",
    "\n",
    "    ## Select one category with the most overlap between categories\n",
    "    temp_list = list(freq_categories)\n",
    "    temp_set = list(set(temp))\n",
    "    max = 0\n",
    "    most_freq_category = temp_set[0]\n",
    "    # find overlapping categories and their number, and find the category with the most overlap.\n",
    "    for i in range(len(temp_set)):\n",
    "        cnt = temp_list.count(temp_set[i])\n",
    "        if cnt > max:\n",
    "            max = cnt\n",
    "            most_freq_category = temp_set[i]\n",
    "\n",
    "    if max == 1:\n",
    "        # If NO overlapping categories -> just recommend the closest location from mid.\n",
    "        data = np.array(df[['Latitude', 'Longitude']])\n",
    "    else:\n",
    "        # If overlapping categories (O) -> recommend appropriate location by the most overlapping categories and mid location info\n",
    "        data = np.array(df[df['VenueCategoryName'] == most_freq_category][['Latitude', 'Longitude']])\n",
    "\n",
    "    meetingPoint = findNearestLoc(mid, data)\n",
    "\n",
    "    return meetingPoint\n",
    "\n",
    "\n",
    "# Function that finds the closest x,y to a random x,y among the x,y in the given data\n",
    "def findNearestLoc(point, data):\n",
    "\n",
    "    mn = 10000\n",
    "    idx = 0\n",
    "\n",
    "    for i in range(len(data)):\n",
    "\n",
    "        # Euclidean distance\n",
    "        s = np.sum((point - data[i]) ** 2)\n",
    "\n",
    "        if s < mn:\n",
    "            mn = s\n",
    "            idx = i\n",
    "\n",
    "    return data[i]\n",
    "\n",
    "\n",
    "# Function that gets a UserID from the user\n",
    "def getUserID():\n",
    "    # 수정 1083\n",
    "    while ((inputUserID := int(input(\"Enter UserID (from 1 to 1083): \"))) < 1 or inputUserID > 1083):\n",
    "        print(\"UserID Error\")\n",
    "        continue\n",
    "\n",
    "    return inputUserID\n",
    "\n",
    "\n",
    "# Function that gets a VenueCategoryName from the user\n",
    "def getCategoryName():\n",
    "    cnt = 0\n",
    "    CategoryType = df['VenueCategoryName'].value_counts().index\n",
    "\n",
    "    # Repeat until the data frame contains a CategoryName that contains the characters entered by the user\n",
    "    while cnt >= 0:\n",
    "\n",
    "        inputCategory = input(\"Enter VenueCategoryName: \")\n",
    "\n",
    "        if inputCategory.strip() == \"\":\n",
    "            pass\n",
    "\n",
    "        # If a CategoryName contains characters entered by the user, return the exact CategoryName\n",
    "        for _type in CategoryType:\n",
    "            if inputCategory.strip() in _type:\n",
    "                inputCategory = _type\n",
    "                cnt = -1\n",
    "                break\n",
    "\n",
    "        if cnt >= 0:\n",
    "            print(\"CategoryName Error\")\n",
    "            cnt += 1\n",
    "\n",
    "    return inputCategory\n",
    "\n",
    "\n",
    "# Function that gets 5 UserIDs from the user\n",
    "def get_5_UserIDs():\n",
    "    inputCheck = False\n",
    "\n",
    "    while inputCheck == False:\n",
    "\n",
    "        temp = input(\"Enter 5 UserID(from 1 to 1083)s: \").split()\n",
    "        for i in range(len(temp)):\n",
    "            temp[i] = temp[i].rstrip(r',$')\n",
    "        inputUserIDs = list(map(int, temp))\n",
    "\n",
    "        if (len(inputUserIDs) != 5):\n",
    "            print(\"UserID Error (input 5 user ids)\")\n",
    "            continue\n",
    "\n",
    "        i = 0\n",
    "        for n in inputUserIDs:\n",
    "            if n < 1 or n > 1083:\n",
    "                print(\"UserID Error (\" + n + \" could not be accepted)\")\n",
    "                i += 1\n",
    "\n",
    "        if i < 1:\n",
    "            inputCheck = True\n",
    "\n",
    "    return inputUserIDs\n",
    "\n",
    "\n",
    "# Function that finds each Location from 5 UserIDs\n",
    "def get_5_Locations(inputUserIDs):\n",
    "    # get locations (lat, lon) for each UserID\n",
    "    inputLocs = pd.DataFrame(columns=['Latitude', 'Longitude'])\n",
    "\n",
    "    for i in range(5):\n",
    "\n",
    "        while True:\n",
    "            temp = list(input(\"Enter the location of UserID:\" + str(inputUserIDs[i]) + \" (lat, lon): \").split())\n",
    "\n",
    "            if len(temp) != 2:\n",
    "                print(\"Location Error (input latitude and longitude)\")\n",
    "                continue\n",
    "\n",
    "            temp[0] = temp[0].rstrip(r',$')\n",
    "            temp[1] = temp[1].rstrip(r',$')\n",
    "\n",
    "            lat, lon = map(float, temp)\n",
    "\n",
    "            if abs(lat) > 90:\n",
    "                print(\"Latitude Range Error (it must be in range of (-90, 90))\")\n",
    "            elif abs(lon) > 180:\n",
    "                print(\"Longitude Range Error (it must be in range of (-180, 180))\")\n",
    "            else:\n",
    "                break\n",
    "\n",
    "        inputLocs = pd.concat([inputLocs, pd.DataFrame({'Latitude': [lat], 'Longitude': [lon]})])\n",
    "\n",
    "    inputLocs.index = inputUserIDs\n",
    "\n",
    "    return inputLocs\n",
    "\n",
    "\n",
    "############################## functions to operate in command line (for test)\n",
    "\n",
    "# Task1\n",
    "# recommend 10 unvisited locations to given UID having similar category with given CategoryID\n",
    "def recommend_1():\n",
    "    inputUserID = getUserID()\n",
    "    inputCategory = getCategoryName()\n",
    "\n",
    "    recommendedVenueIDs = recommendVenueFromIDandCategory(inputUserID, inputCategory)\n",
    "\n",
    "    print(recommendedVenueIDs)\n",
    "\n",
    "# Task2\n",
    "# recommend the 10 most similar users with a randomly given user\n",
    "def recommend_2():\n",
    "    inputUserID = getUserID()\n",
    "\n",
    "    recommendedUserIDs = recommendUsersFromID(inputUserID)\n",
    "\n",
    "    print(recommendedUserIDs)\n",
    "\n",
    "# Task3\n",
    "# recommend meeting point with 5 randomly given users and their locations\n",
    "def recommend_3():\n",
    "    inputUserIDs = get_5_UserIDs()\n",
    "    inputLocs = np.array(get_5_Locations(inputUserIDs))\n",
    "\n",
    "    meetingPoint = recommendMeetingPointFromIDsandLocs(inputUserIDs, inputLocs)\n",
    "    m = showMap(inputUserIDs, inputLocs, meetingPoint)\n",
    "\n",
    "    print(meetingPoint)\n",
    "    print(m)\n",
    "\n",
    "\n",
    "# def main():\n",
    "#\n",
    "#     #clusterCategories()\n",
    "#     #getSimilarCategories()\n",
    "#     #recommend_1() # 1. recommend 10 unvisited locations to given UID having similar category with given CategoryID\n",
    "#     #recommend_2() # 2. recommend the 10 most similar users with a randomly given user\n",
    "#     #recommend_3() # 3. recommend meeting point with 5 randomly given users and their locations\n",
    "#\n",
    "#\n",
    "# if __name__ == \"__main__\":\n",
    "#     main()\n",
    "\n",
    "\n",
    "\n",
    "#################################### functions to use in app.py\n",
    "### functions to operate when parameters are given\n",
    "\n",
    "# Task1\n",
    "# recommend 10 unvisited locations to given UID having similar category with given CategoryID\n",
    "def recommend_1_with_param(inputUserID, inputCategory):\n",
    "    recommendedVenueIDs = recommendVenueFromIDandCategory(inputUserID, inputCategory)\n",
    "    print(recommendedVenueIDs)\n",
    "    return recommendedVenueIDs\n",
    "\n",
    "# Task2\n",
    "# recommend the 10 most similar users with a randomly given user\n",
    "def recommend_2_with_param(inputUserID):\n",
    "    recommendedUserIDs = recommendUsersFromID(inputUserID)\n",
    "    print(recommendedUserIDs)\n",
    "    return recommendedUserIDs\n",
    "\n",
    "# Task3\n",
    "# recommend meeting point with 5 randomly given users and their locations\n",
    "def recommend_3_with_param(inputUserIDs, inputLocs):\n",
    "    inputLocs = np.array(inputLocs)\n",
    "    meetingPoint = recommendMeetingPointFromIDsandLocs(inputUserIDs, inputLocs)\n",
    "    m = showMap(inputUserIDs, inputLocs, meetingPoint)\n",
    "\n",
    "    m.save('templates/r3_out_map.html')\n",
    "\n",
    "    # # save img\n",
    "    # options = webdriver.ChromeOptions()\n",
    "    # options.add_argument('--headless')\n",
    "    # # options.add_experimental_option(\"detach\", True)\n",
    "    # service = Service(executable_path=r\"C:/chromedriver/chromedriver.exe\")\n",
    "    # driver = webdriver.Chrome(service=service, options=options)\n",
    "    #\n",
    "    # img_data = m._to_png(5, driver=driver)\n",
    "    # img = Image.open(io.BytesIO(img_data))\n",
    "    # img.save('r3_out_map.png')\n",
    "\n",
    "    return meetingPoint.tolist()\n",
    "\n",
    "def checkUserID(inputUserID):\n",
    "\n",
    "    # inputUserID range : 1 ~ 1083\n",
    "    if inputUserID < 1 or inputUserID > 1083:\n",
    "        return False\n",
    "    else:\n",
    "        return True\n",
    "\n",
    "def checkCategory(inputCategory):\n",
    "\n",
    "    # every category type given\n",
    "    CategoryType = df['VenueCategoryName'].value_counts().index\n",
    "\n",
    "    # If a CategoryName contains characters entered by the user, return the exact CategoryName\n",
    "    for _type in CategoryType:\n",
    "        if inputCategory.strip() in _type:\n",
    "            inputCategory = _type\n",
    "            return inputCategory\n",
    "\n",
    "    # If there is no matching category, return false\n",
    "    return False\n"
   ]
  },
  {
   "cell_type": "code",
   "execution_count": 4,
   "id": "2f2f4299",
   "metadata": {},
   "outputs": [],
   "source": [
    "from sklearn.metrics import silhouette_samples, silhouette_score"
   ]
  },
  {
   "cell_type": "code",
   "execution_count": 7,
   "id": "cc16bc11",
   "metadata": {},
   "outputs": [
    {
     "name": "stderr",
     "output_type": "stream",
     "text": [
      "C:\\Users\\jweun\\anaconda3\\lib\\site-packages\\sklearn\\cluster\\_kmeans.py:870: FutureWarning: The default value of `n_init` will change from 10 to 'auto' in 1.4. Set the value of `n_init` explicitly to suppress the warning\n",
      "  warnings.warn(\n",
      "C:\\Users\\jweun\\anaconda3\\lib\\site-packages\\sklearn\\cluster\\_kmeans.py:1382: UserWarning: KMeans is known to have a memory leak on Windows with MKL, when there are less chunks than available threads. You can avoid it by setting the environment variable OMP_NUM_THREADS=1.\n",
      "  warnings.warn(\n"
     ]
    }
   ],
   "source": [
    "clustered = clusterCategories()"
   ]
  },
  {
   "cell_type": "code",
   "execution_count": 9,
   "id": "9a7e292c",
   "metadata": {},
   "outputs": [],
   "source": [
    "gdf = df.groupby(['UserID', 'VenueCategoryName']).size().reset_index()\n",
    "gdf.columns = ['UserID', 'VenueCategoryName', 'N']\n",
    "re_category = pd.pivot_table(gdf, index='VenueCategoryName', columns='UserID', values='N', fill_value=0)\n",
    "corr = re_category.div(re_category.sum(axis=0)).mul(100)\n",
    "corr['sum'] = corr.sum(axis=1)"
   ]
  },
  {
   "cell_type": "code",
   "execution_count": 19,
   "id": "295f679a",
   "metadata": {},
   "outputs": [],
   "source": [
    "score_samples = silhouette_samples(corr[['sum']], clustered['cluster'])\n",
    "average_score = silhouette_score(corr[['sum']], clustered['cluster'])\n",
    "clustered['silhouette_coeff'] = score_samples\n",
    "silhouette_coeff_mean = clustered.groupby('cluster')['silhouette_coeff'].mean()"
   ]
  },
  {
   "cell_type": "code",
   "execution_count": 13,
   "id": "cf2f2041",
   "metadata": {},
   "outputs": [
    {
     "data": {
      "text/plain": [
       "array([ 0.75899342,  0.69153976,  0.57489345,  0.52343745,  0.47203892,\n",
       "        0.81691649,  0.791975  ,  0.66299327,  0.81566032,  0.81963256,\n",
       "        0.2290861 ,  0.71752432,  0.56937572,  0.43170037,  0.76637294,\n",
       "        0.77560674,  0.06518239,  0.78355233,  0.70931623,  0.13260055,\n",
       "        0.31181875,  0.30904675,  0.51812135,  0.63995134,  0.49118345,\n",
       "        0.76321347,  0.34040464,  0.80759871,  0.74298812,  0.73494946,\n",
       "       -0.00565273,  0.1738132 ,  0.66210378,  0.54642324,  0.69470213,\n",
       "        0.62240243,  0.56108894,  0.79758275,  0.6403345 ,  0.5224708 ,\n",
       "        0.7204411 ,  0.79782206,  0.49985161,  0.49645471,  0.81697321,\n",
       "        0.8193572 ,  0.78981033,  0.28865746,  0.7502111 ,  0.57949986,\n",
       "        0.38244153,  0.0956084 ,  0.62120097,  0.61869662,  0.42150809,\n",
       "        0.63506482,  0.63737245,  0.70668845,  0.78174737,  0.64651837,\n",
       "        0.78829377,  0.75365762,  0.72496198,  0.22700822,  0.77526455,\n",
       "        0.61016527,  0.56217091,  0.13196961,  0.68460289,  0.64255105,\n",
       "        0.60768723,  0.51279348,  0.69252957,  0.79151231,  0.65355467,\n",
       "        0.75244248,  0.66882532,  0.30282628,  0.6402745 ,  0.53701432,\n",
       "        0.79534175,  0.81071131,  0.78010215,  0.67515551,  0.81759093,\n",
       "        0.41765702,  0.63597427,  0.67849097,  0.73927835,  0.73961386,\n",
       "        0.80320685,  0.77422884,  0.73778988,  0.68037653,  0.1999752 ,\n",
       "        0.78465649,  0.71633143,  0.42044835,  0.48240281,  0.8178166 ,\n",
       "        0.76439219,  0.79544478,  0.73688438,  0.77134048,  0.62731096,\n",
       "        0.59382473,  0.69305842,  0.0851876 ,  0.12669875,  0.3794618 ,\n",
       "        0.6934729 ,  0.76514829,  0.69442435,  0.69578011,  0.14143581,\n",
       "        0.13701903,  0.72731066,  0.61800811,  0.69809476,  0.05661354,\n",
       "        0.70393621, -0.37255094,  0.72117436, -0.41332091,  0.69425912,\n",
       "        0.03384723,  0.70930864,  0.77837986,  0.69203685,  0.71035687,\n",
       "        0.53050402, -0.02715009,  0.51530232,  0.77396447,  0.73234344,\n",
       "        0.7040365 ,  0.57680936,  0.7694976 ,  0.75618909, -0.24070992,\n",
       "        0.03503642,  0.6371059 ,  0.58076717, -0.12667084, -0.42936885,\n",
       "        0.41406617,  0.7805606 ,  0.80803308,  0.62623169,  0.65861544,\n",
       "        0.81950733,  0.79659843,  0.69605007,  0.75145304, -0.51305425,\n",
       "        0.69158717, -0.10661059,  0.74834019,  0.78408889,  0.3393402 ,\n",
       "        0.08957695,  0.63416795,  0.79236373,  0.79710445,  0.62110007,\n",
       "        0.0699502 ,  0.6241213 ,  0.56466336,  0.66520508,  0.27515022,\n",
       "        0.45897822,  0.71904087,  0.65979674,  0.8189461 ,  0.75949109,\n",
       "        0.73280717,  0.7531396 , -0.49201755,  0.79197883,  0.64442078,\n",
       "        0.68353193,  0.47796719,  0.45963459,  0.78484006,  0.49169575,\n",
       "        0.63881952,  0.81966242,  0.76283076,  0.19638037,  0.43782055,\n",
       "        0.79663381,  0.64853318,  0.59809489,  0.69379749,  0.7725318 ,\n",
       "        0.38580467,  0.73605371, -0.21928837,  0.69127598, -0.31181865,\n",
       "        0.81890194,  0.74561799,  0.67656388,  0.24816759,  0.67405322,\n",
       "        0.65610321,  0.80843751,  0.81958639,  0.81698701,  0.51295839,\n",
       "        0.5108933 ,  0.76790614,  0.61319919,  0.41104354,  0.62598235,\n",
       "        0.73684562,  0.80084069,  0.51232389,  0.13930912,  0.39341581,\n",
       "        0.7182463 ,  0.77347831, -0.1529031 , -0.33451431,  0.66227732,\n",
       "        0.79669924,  0.69980666,  0.70087019,  0.65282424,  0.60918242,\n",
       "        0.4649834 ,  0.68221198,  0.79305496,  0.80137332,  0.16087417,\n",
       "        0.52383034,  0.30115591,  0.14727866,  0.69425277, -0.20761185,\n",
       "        0.81273926,  0.81658525,  0.81350435,  0.61651028,  0.72990369,\n",
       "        0.49919047,  0.81343134, -0.27878956,  0.81627346,  0.61487508,\n",
       "        0.32774649])"
      ]
     },
     "execution_count": 13,
     "metadata": {},
     "output_type": "execute_result"
    }
   ],
   "source": [
    "score_samples"
   ]
  },
  {
   "cell_type": "code",
   "execution_count": 14,
   "id": "7f079dcb",
   "metadata": {},
   "outputs": [
    {
     "data": {
      "text/plain": [
       "0.5564947884123094"
      ]
     },
     "execution_count": 14,
     "metadata": {},
     "output_type": "execute_result"
    }
   ],
   "source": [
    "average_score"
   ]
  },
  {
   "cell_type": "code",
   "execution_count": 15,
   "id": "c1711760",
   "metadata": {},
   "outputs": [
    {
     "data": {
      "text/plain": [
       "(251, 1086)"
      ]
     },
     "execution_count": 15,
     "metadata": {},
     "output_type": "execute_result"
    }
   ],
   "source": [
    "clustered.shape"
   ]
  },
  {
   "cell_type": "code",
   "execution_count": 16,
   "id": "15d1d362",
   "metadata": {},
   "outputs": [
    {
     "data": {
      "text/html": [
       "<div>\n",
       "<style scoped>\n",
       "    .dataframe tbody tr th:only-of-type {\n",
       "        vertical-align: middle;\n",
       "    }\n",
       "\n",
       "    .dataframe tbody tr th {\n",
       "        vertical-align: top;\n",
       "    }\n",
       "\n",
       "    .dataframe thead th {\n",
       "        text-align: right;\n",
       "    }\n",
       "</style>\n",
       "<table border=\"1\" class=\"dataframe\">\n",
       "  <thead>\n",
       "    <tr style=\"text-align: right;\">\n",
       "      <th>UserID</th>\n",
       "      <th>1</th>\n",
       "      <th>2</th>\n",
       "      <th>3</th>\n",
       "      <th>4</th>\n",
       "      <th>5</th>\n",
       "      <th>6</th>\n",
       "      <th>7</th>\n",
       "      <th>8</th>\n",
       "      <th>9</th>\n",
       "      <th>10</th>\n",
       "      <th>...</th>\n",
       "      <th>1077</th>\n",
       "      <th>1078</th>\n",
       "      <th>1079</th>\n",
       "      <th>1080</th>\n",
       "      <th>1081</th>\n",
       "      <th>1082</th>\n",
       "      <th>1083</th>\n",
       "      <th>sum</th>\n",
       "      <th>cluster</th>\n",
       "      <th>silhouette_coeff</th>\n",
       "    </tr>\n",
       "    <tr>\n",
       "      <th>VenueCategoryName</th>\n",
       "      <th></th>\n",
       "      <th></th>\n",
       "      <th></th>\n",
       "      <th></th>\n",
       "      <th></th>\n",
       "      <th></th>\n",
       "      <th></th>\n",
       "      <th></th>\n",
       "      <th></th>\n",
       "      <th></th>\n",
       "      <th></th>\n",
       "      <th></th>\n",
       "      <th></th>\n",
       "      <th></th>\n",
       "      <th></th>\n",
       "      <th></th>\n",
       "      <th></th>\n",
       "      <th></th>\n",
       "      <th></th>\n",
       "      <th></th>\n",
       "      <th></th>\n",
       "    </tr>\n",
       "  </thead>\n",
       "  <tbody>\n",
       "    <tr>\n",
       "      <th>Afghan Restaurant</th>\n",
       "      <td>0.000000</td>\n",
       "      <td>0.000000</td>\n",
       "      <td>0.000000</td>\n",
       "      <td>0.000000</td>\n",
       "      <td>0.0</td>\n",
       "      <td>0.000000</td>\n",
       "      <td>0.000000</td>\n",
       "      <td>0.000000</td>\n",
       "      <td>0.000000</td>\n",
       "      <td>0.000000</td>\n",
       "      <td>...</td>\n",
       "      <td>0.000000</td>\n",
       "      <td>0.000000</td>\n",
       "      <td>0.000000</td>\n",
       "      <td>0.00000</td>\n",
       "      <td>0.0</td>\n",
       "      <td>0.000000</td>\n",
       "      <td>0.000000</td>\n",
       "      <td>2.008710</td>\n",
       "      <td>3</td>\n",
       "      <td>0.758993</td>\n",
       "    </tr>\n",
       "    <tr>\n",
       "      <th>African Restaurant</th>\n",
       "      <td>0.000000</td>\n",
       "      <td>0.000000</td>\n",
       "      <td>0.000000</td>\n",
       "      <td>0.000000</td>\n",
       "      <td>0.0</td>\n",
       "      <td>0.000000</td>\n",
       "      <td>0.352113</td>\n",
       "      <td>0.000000</td>\n",
       "      <td>0.000000</td>\n",
       "      <td>0.000000</td>\n",
       "      <td>...</td>\n",
       "      <td>0.000000</td>\n",
       "      <td>0.000000</td>\n",
       "      <td>0.000000</td>\n",
       "      <td>0.00000</td>\n",
       "      <td>0.0</td>\n",
       "      <td>0.000000</td>\n",
       "      <td>0.000000</td>\n",
       "      <td>30.078779</td>\n",
       "      <td>3</td>\n",
       "      <td>0.691540</td>\n",
       "    </tr>\n",
       "    <tr>\n",
       "      <th>Airport</th>\n",
       "      <td>2.830189</td>\n",
       "      <td>0.000000</td>\n",
       "      <td>6.779661</td>\n",
       "      <td>0.000000</td>\n",
       "      <td>0.0</td>\n",
       "      <td>1.162791</td>\n",
       "      <td>0.000000</td>\n",
       "      <td>5.511811</td>\n",
       "      <td>0.000000</td>\n",
       "      <td>1.675978</td>\n",
       "      <td>...</td>\n",
       "      <td>0.000000</td>\n",
       "      <td>0.000000</td>\n",
       "      <td>1.470588</td>\n",
       "      <td>2.34375</td>\n",
       "      <td>0.0</td>\n",
       "      <td>2.713178</td>\n",
       "      <td>0.000000</td>\n",
       "      <td>1565.016042</td>\n",
       "      <td>4</td>\n",
       "      <td>0.574893</td>\n",
       "    </tr>\n",
       "    <tr>\n",
       "      <th>American Restaurant</th>\n",
       "      <td>9.433962</td>\n",
       "      <td>2.631579</td>\n",
       "      <td>16.949153</td>\n",
       "      <td>0.571429</td>\n",
       "      <td>0.0</td>\n",
       "      <td>0.387597</td>\n",
       "      <td>1.408451</td>\n",
       "      <td>3.937008</td>\n",
       "      <td>4.142012</td>\n",
       "      <td>0.558659</td>\n",
       "      <td>...</td>\n",
       "      <td>0.000000</td>\n",
       "      <td>0.641026</td>\n",
       "      <td>2.205882</td>\n",
       "      <td>3.90625</td>\n",
       "      <td>0.0</td>\n",
       "      <td>0.000000</td>\n",
       "      <td>1.086957</td>\n",
       "      <td>2051.448693</td>\n",
       "      <td>4</td>\n",
       "      <td>0.523437</td>\n",
       "    </tr>\n",
       "    <tr>\n",
       "      <th>Animal Shelter</th>\n",
       "      <td>0.000000</td>\n",
       "      <td>0.000000</td>\n",
       "      <td>0.000000</td>\n",
       "      <td>0.000000</td>\n",
       "      <td>0.0</td>\n",
       "      <td>0.000000</td>\n",
       "      <td>0.000000</td>\n",
       "      <td>0.000000</td>\n",
       "      <td>0.000000</td>\n",
       "      <td>0.000000</td>\n",
       "      <td>...</td>\n",
       "      <td>0.769231</td>\n",
       "      <td>0.000000</td>\n",
       "      <td>0.000000</td>\n",
       "      <td>0.00000</td>\n",
       "      <td>0.0</td>\n",
       "      <td>0.000000</td>\n",
       "      <td>0.000000</td>\n",
       "      <td>37.480484</td>\n",
       "      <td>3</td>\n",
       "      <td>0.472039</td>\n",
       "    </tr>\n",
       "    <tr>\n",
       "      <th>...</th>\n",
       "      <td>...</td>\n",
       "      <td>...</td>\n",
       "      <td>...</td>\n",
       "      <td>...</td>\n",
       "      <td>...</td>\n",
       "      <td>...</td>\n",
       "      <td>...</td>\n",
       "      <td>...</td>\n",
       "      <td>...</td>\n",
       "      <td>...</td>\n",
       "      <td>...</td>\n",
       "      <td>...</td>\n",
       "      <td>...</td>\n",
       "      <td>...</td>\n",
       "      <td>...</td>\n",
       "      <td>...</td>\n",
       "      <td>...</td>\n",
       "      <td>...</td>\n",
       "      <td>...</td>\n",
       "      <td>...</td>\n",
       "      <td>...</td>\n",
       "    </tr>\n",
       "    <tr>\n",
       "      <th>Video Store</th>\n",
       "      <td>0.000000</td>\n",
       "      <td>0.000000</td>\n",
       "      <td>0.000000</td>\n",
       "      <td>0.000000</td>\n",
       "      <td>0.0</td>\n",
       "      <td>0.000000</td>\n",
       "      <td>0.000000</td>\n",
       "      <td>0.000000</td>\n",
       "      <td>0.000000</td>\n",
       "      <td>0.000000</td>\n",
       "      <td>...</td>\n",
       "      <td>0.000000</td>\n",
       "      <td>0.000000</td>\n",
       "      <td>0.000000</td>\n",
       "      <td>0.00000</td>\n",
       "      <td>0.0</td>\n",
       "      <td>0.000000</td>\n",
       "      <td>0.000000</td>\n",
       "      <td>18.353382</td>\n",
       "      <td>3</td>\n",
       "      <td>0.813431</td>\n",
       "    </tr>\n",
       "    <tr>\n",
       "      <th>Vietnamese Restaurant</th>\n",
       "      <td>0.000000</td>\n",
       "      <td>0.000000</td>\n",
       "      <td>0.000000</td>\n",
       "      <td>0.000000</td>\n",
       "      <td>0.0</td>\n",
       "      <td>0.000000</td>\n",
       "      <td>0.000000</td>\n",
       "      <td>0.000000</td>\n",
       "      <td>0.000000</td>\n",
       "      <td>0.000000</td>\n",
       "      <td>...</td>\n",
       "      <td>0.000000</td>\n",
       "      <td>0.000000</td>\n",
       "      <td>0.000000</td>\n",
       "      <td>0.00000</td>\n",
       "      <td>0.0</td>\n",
       "      <td>0.000000</td>\n",
       "      <td>0.362319</td>\n",
       "      <td>111.452544</td>\n",
       "      <td>7</td>\n",
       "      <td>-0.278790</td>\n",
       "    </tr>\n",
       "    <tr>\n",
       "      <th>Winery</th>\n",
       "      <td>0.000000</td>\n",
       "      <td>0.000000</td>\n",
       "      <td>0.000000</td>\n",
       "      <td>0.000000</td>\n",
       "      <td>0.0</td>\n",
       "      <td>0.000000</td>\n",
       "      <td>0.000000</td>\n",
       "      <td>0.000000</td>\n",
       "      <td>0.000000</td>\n",
       "      <td>0.000000</td>\n",
       "      <td>...</td>\n",
       "      <td>0.000000</td>\n",
       "      <td>0.000000</td>\n",
       "      <td>0.000000</td>\n",
       "      <td>0.00000</td>\n",
       "      <td>0.0</td>\n",
       "      <td>0.000000</td>\n",
       "      <td>0.000000</td>\n",
       "      <td>17.554208</td>\n",
       "      <td>3</td>\n",
       "      <td>0.816273</td>\n",
       "    </tr>\n",
       "    <tr>\n",
       "      <th>Wings Joint</th>\n",
       "      <td>0.943396</td>\n",
       "      <td>0.000000</td>\n",
       "      <td>0.000000</td>\n",
       "      <td>0.000000</td>\n",
       "      <td>0.0</td>\n",
       "      <td>0.000000</td>\n",
       "      <td>0.000000</td>\n",
       "      <td>0.000000</td>\n",
       "      <td>0.000000</td>\n",
       "      <td>0.000000</td>\n",
       "      <td>...</td>\n",
       "      <td>0.000000</td>\n",
       "      <td>0.000000</td>\n",
       "      <td>0.000000</td>\n",
       "      <td>0.00000</td>\n",
       "      <td>0.0</td>\n",
       "      <td>0.000000</td>\n",
       "      <td>0.000000</td>\n",
       "      <td>86.129916</td>\n",
       "      <td>7</td>\n",
       "      <td>0.614875</td>\n",
       "    </tr>\n",
       "    <tr>\n",
       "      <th>Zoo</th>\n",
       "      <td>0.000000</td>\n",
       "      <td>0.000000</td>\n",
       "      <td>0.000000</td>\n",
       "      <td>0.000000</td>\n",
       "      <td>0.0</td>\n",
       "      <td>0.000000</td>\n",
       "      <td>0.000000</td>\n",
       "      <td>0.000000</td>\n",
       "      <td>0.000000</td>\n",
       "      <td>0.000000</td>\n",
       "      <td>...</td>\n",
       "      <td>0.000000</td>\n",
       "      <td>0.000000</td>\n",
       "      <td>0.000000</td>\n",
       "      <td>0.00000</td>\n",
       "      <td>0.0</td>\n",
       "      <td>0.000000</td>\n",
       "      <td>0.000000</td>\n",
       "      <td>52.567226</td>\n",
       "      <td>7</td>\n",
       "      <td>0.327746</td>\n",
       "    </tr>\n",
       "  </tbody>\n",
       "</table>\n",
       "<p>251 rows × 1086 columns</p>\n",
       "</div>"
      ],
      "text/plain": [
       "UserID                        1         2          3         4    5         6  \\\n",
       "VenueCategoryName                                                               \n",
       "Afghan Restaurant      0.000000  0.000000   0.000000  0.000000  0.0  0.000000   \n",
       "African Restaurant     0.000000  0.000000   0.000000  0.000000  0.0  0.000000   \n",
       "Airport                2.830189  0.000000   6.779661  0.000000  0.0  1.162791   \n",
       "American Restaurant    9.433962  2.631579  16.949153  0.571429  0.0  0.387597   \n",
       "Animal Shelter         0.000000  0.000000   0.000000  0.000000  0.0  0.000000   \n",
       "...                         ...       ...        ...       ...  ...       ...   \n",
       "Video Store            0.000000  0.000000   0.000000  0.000000  0.0  0.000000   \n",
       "Vietnamese Restaurant  0.000000  0.000000   0.000000  0.000000  0.0  0.000000   \n",
       "Winery                 0.000000  0.000000   0.000000  0.000000  0.0  0.000000   \n",
       "Wings Joint            0.943396  0.000000   0.000000  0.000000  0.0  0.000000   \n",
       "Zoo                    0.000000  0.000000   0.000000  0.000000  0.0  0.000000   \n",
       "\n",
       "UserID                        7         8         9        10  ...      1077  \\\n",
       "VenueCategoryName                                              ...             \n",
       "Afghan Restaurant      0.000000  0.000000  0.000000  0.000000  ...  0.000000   \n",
       "African Restaurant     0.352113  0.000000  0.000000  0.000000  ...  0.000000   \n",
       "Airport                0.000000  5.511811  0.000000  1.675978  ...  0.000000   \n",
       "American Restaurant    1.408451  3.937008  4.142012  0.558659  ...  0.000000   \n",
       "Animal Shelter         0.000000  0.000000  0.000000  0.000000  ...  0.769231   \n",
       "...                         ...       ...       ...       ...  ...       ...   \n",
       "Video Store            0.000000  0.000000  0.000000  0.000000  ...  0.000000   \n",
       "Vietnamese Restaurant  0.000000  0.000000  0.000000  0.000000  ...  0.000000   \n",
       "Winery                 0.000000  0.000000  0.000000  0.000000  ...  0.000000   \n",
       "Wings Joint            0.000000  0.000000  0.000000  0.000000  ...  0.000000   \n",
       "Zoo                    0.000000  0.000000  0.000000  0.000000  ...  0.000000   \n",
       "\n",
       "UserID                     1078      1079     1080  1081      1082      1083  \\\n",
       "VenueCategoryName                                                              \n",
       "Afghan Restaurant      0.000000  0.000000  0.00000   0.0  0.000000  0.000000   \n",
       "African Restaurant     0.000000  0.000000  0.00000   0.0  0.000000  0.000000   \n",
       "Airport                0.000000  1.470588  2.34375   0.0  2.713178  0.000000   \n",
       "American Restaurant    0.641026  2.205882  3.90625   0.0  0.000000  1.086957   \n",
       "Animal Shelter         0.000000  0.000000  0.00000   0.0  0.000000  0.000000   \n",
       "...                         ...       ...      ...   ...       ...       ...   \n",
       "Video Store            0.000000  0.000000  0.00000   0.0  0.000000  0.000000   \n",
       "Vietnamese Restaurant  0.000000  0.000000  0.00000   0.0  0.000000  0.362319   \n",
       "Winery                 0.000000  0.000000  0.00000   0.0  0.000000  0.000000   \n",
       "Wings Joint            0.000000  0.000000  0.00000   0.0  0.000000  0.000000   \n",
       "Zoo                    0.000000  0.000000  0.00000   0.0  0.000000  0.000000   \n",
       "\n",
       "UserID                         sum  cluster  silhouette_coeff  \n",
       "VenueCategoryName                                              \n",
       "Afghan Restaurant         2.008710        3          0.758993  \n",
       "African Restaurant       30.078779        3          0.691540  \n",
       "Airport                1565.016042        4          0.574893  \n",
       "American Restaurant    2051.448693        4          0.523437  \n",
       "Animal Shelter           37.480484        3          0.472039  \n",
       "...                            ...      ...               ...  \n",
       "Video Store              18.353382        3          0.813431  \n",
       "Vietnamese Restaurant   111.452544        7         -0.278790  \n",
       "Winery                   17.554208        3          0.816273  \n",
       "Wings Joint              86.129916        7          0.614875  \n",
       "Zoo                      52.567226        7          0.327746  \n",
       "\n",
       "[251 rows x 1086 columns]"
      ]
     },
     "execution_count": 16,
     "metadata": {},
     "output_type": "execute_result"
    }
   ],
   "source": [
    "clustered"
   ]
  },
  {
   "cell_type": "code",
   "execution_count": 18,
   "id": "c8609eaf",
   "metadata": {},
   "outputs": [
    {
     "data": {
      "text/plain": [
       "(251,)"
      ]
     },
     "execution_count": 18,
     "metadata": {},
     "output_type": "execute_result"
    }
   ],
   "source": [
    "score_samples.shape"
   ]
  },
  {
   "cell_type": "code",
   "execution_count": 20,
   "id": "29e1e1d8",
   "metadata": {},
   "outputs": [
    {
     "data": {
      "text/plain": [
       "cluster\n",
       "0     0.652832\n",
       "1     0.294036\n",
       "2    -0.025293\n",
       "3     0.731083\n",
       "4     0.303363\n",
       "5     0.560557\n",
       "6     0.389463\n",
       "7     0.409183\n",
       "8     0.658116\n",
       "9     0.587739\n",
       "10    0.652610\n",
       "11    0.523043\n",
       "Name: silhouette_coeff, dtype: float64"
      ]
     },
     "execution_count": 20,
     "metadata": {},
     "output_type": "execute_result"
    }
   ],
   "source": [
    "silhouette_coeff_mean"
   ]
  },
  {
   "cell_type": "code",
   "execution_count": 28,
   "id": "abcac5bf",
   "metadata": {},
   "outputs": [],
   "source": [
    "# Function that clusters based on the frequency of visits for each place category and returns numbered data for places with similar visit frequencies\n",
    "def clusterCategories(v):\n",
    "    # reframe data by UserID, VenueCategoryName, and the frequency of visiting\n",
    "    gdf = df.groupby(['UserID', 'VenueCategoryName']).size().reset_index()\n",
    "    gdf.columns = ['UserID', 'VenueCategoryName', 'N']\n",
    "    re_category = pd.pivot_table(gdf, index='VenueCategoryName', columns='UserID', values='N', fill_value=0)\n",
    "\n",
    "    # Value correction: Find the percentage of frequency for each place category.\n",
    "    corr = re_category.div(re_category.sum(axis=0)).mul(100)\n",
    "    # to make calculations more convenient later, add up the numbers for each location.\n",
    "    corr['sum'] = corr.sum(axis=1)\n",
    "\n",
    "    ## cluster by corr['sum'] (= added freq for each location)\n",
    "\n",
    "    # 10% sampling\n",
    "    X_sample = corr[['sum']].sample(frac=0.1)\n",
    "    # n in KMeans = sqrt of (data length/2)\n",
    "    n = math.ceil(math.sqrt(corr.shape[0] / 2)) + v\n",
    "    # KMeans Clustering\n",
    "    kmeans = KMeans(n_clusters=n, init='k-means++')\n",
    "    kmeans.fit(X_sample)\n",
    "    y = kmeans.labels_\n",
    "    # add cluster number to data\n",
    "    corr['cluster'] = kmeans.predict(corr[['sum']])\n",
    "\n",
    "    return corr"
   ]
  },
  {
   "cell_type": "code",
   "execution_count": 73,
   "id": "95b9b42b",
   "metadata": {},
   "outputs": [],
   "source": [
    "def test(v):\n",
    "    clustered = clusterCategories(v)\n",
    "    gdf = df.groupby(['UserID', 'VenueCategoryName']).size().reset_index()\n",
    "    gdf.columns = ['UserID', 'VenueCategoryName', 'N']\n",
    "    re_category = pd.pivot_table(gdf, index='VenueCategoryName', columns='UserID', values='N', fill_value=0)\n",
    "    corr = re_category.div(re_category.sum(axis=0)).mul(100)\n",
    "    corr['sum'] = corr.sum(axis=1)\n",
    "    \n",
    "    score_samples = silhouette_samples(corr[['sum']], clustered['cluster'])\n",
    "    average_score = silhouette_score(corr[['sum']], clustered['cluster'])\n",
    "    clustered['silhouette_coeff'] = score_samples\n",
    "    silhouette_coeff_mean = list(clustered.groupby('cluster')['silhouette_coeff'].mean())\n",
    "    silhouette_coeff_size = list(clustered.groupby('cluster')['silhouette_coeff'].size())\n",
    "    \n",
    "    print(average_score)\n",
    "    print(len(silhouette_coeff_mean), silhouette_coeff_mean)\n",
    "    print(len(silhouette_coeff_size), silhouette_coeff_size)"
   ]
  },
  {
   "cell_type": "code",
   "execution_count": 74,
   "id": "e3391624",
   "metadata": {},
   "outputs": [
    {
     "name": "stderr",
     "output_type": "stream",
     "text": [
      "C:\\Users\\jweun\\anaconda3\\lib\\site-packages\\sklearn\\cluster\\_kmeans.py:870: FutureWarning: The default value of `n_init` will change from 10 to 'auto' in 1.4. Set the value of `n_init` explicitly to suppress the warning\n",
      "  warnings.warn(\n",
      "C:\\Users\\jweun\\anaconda3\\lib\\site-packages\\sklearn\\cluster\\_kmeans.py:1382: UserWarning: KMeans is known to have a memory leak on Windows with MKL, when there are less chunks than available threads. You can avoid it by setting the environment variable OMP_NUM_THREADS=1.\n",
      "  warnings.warn(\n"
     ]
    },
    {
     "name": "stdout",
     "output_type": "stream",
     "text": [
      "0.5566998167463053\n",
      "12 [0.7081066238302031, 0.23588887574963424, 0.5482199625282005, 0.5001092380052695, 0.3103463066439066, 0.6922336010043022, 0.17509057448441867, 0.5205433164844063, 0.6901624099261977, 0.47963580102100306, 0.8850510363217294, 0.5082893227426776]\n",
      "12 [7, 6, 40, 13, 13, 20, 15, 6, 78, 21, 3, 29]\n"
     ]
    }
   ],
   "source": [
    "test(0)"
   ]
  },
  {
   "cell_type": "code",
   "execution_count": 75,
   "id": "9cd824f5",
   "metadata": {},
   "outputs": [
    {
     "name": "stderr",
     "output_type": "stream",
     "text": [
      "C:\\Users\\jweun\\anaconda3\\lib\\site-packages\\sklearn\\cluster\\_kmeans.py:870: FutureWarning: The default value of `n_init` will change from 10 to 'auto' in 1.4. Set the value of `n_init` explicitly to suppress the warning\n",
      "  warnings.warn(\n",
      "C:\\Users\\jweun\\anaconda3\\lib\\site-packages\\sklearn\\cluster\\_kmeans.py:1382: UserWarning: KMeans is known to have a memory leak on Windows with MKL, when there are less chunks than available threads. You can avoid it by setting the environment variable OMP_NUM_THREADS=1.\n",
      "  warnings.warn(\n"
     ]
    },
    {
     "name": "stdout",
     "output_type": "stream",
     "text": [
      "0.47478949101718193\n",
      "13 [0.3167749632283833, 0.5908077597283239, 0.9312019793622361, 0.5897471756698146, 0.357917733394339, 0.34454059990417835, 0.5590660452210158, -0.2925976917554925, 0.6065277775127554, 0.6372446867902776, 0.6942412869174567, 0.5355529916568749, 0.7316008506379904]\n",
      "13 [34, 4, 4, 3, 52, 18, 24, 11, 5, 23, 2, 28, 43]\n"
     ]
    }
   ],
   "source": [
    "test(1)"
   ]
  },
  {
   "cell_type": "code",
   "execution_count": 76,
   "id": "82f6aa36",
   "metadata": {},
   "outputs": [
    {
     "name": "stderr",
     "output_type": "stream",
     "text": [
      "C:\\Users\\jweun\\anaconda3\\lib\\site-packages\\sklearn\\cluster\\_kmeans.py:870: FutureWarning: The default value of `n_init` will change from 10 to 'auto' in 1.4. Set the value of `n_init` explicitly to suppress the warning\n",
      "  warnings.warn(\n",
      "C:\\Users\\jweun\\anaconda3\\lib\\site-packages\\sklearn\\cluster\\_kmeans.py:1382: UserWarning: KMeans is known to have a memory leak on Windows with MKL, when there are less chunks than available threads. You can avoid it by setting the environment variable OMP_NUM_THREADS=1.\n",
      "  warnings.warn(\n"
     ]
    },
    {
     "name": "stdout",
     "output_type": "stream",
     "text": [
      "0.4972986185872691\n",
      "14 [0.5296266695155443, 0.47951144739758156, 0.41855417034462017, 0.3956748418831818, 0.6429598748725867, 0.22252985564164146, 0.4902411922977146, 0.40029510583169553, 0.6625207045007907, -0.14048697704282145, 0.6189208162344406, 0.6323142048776668, 0.6406664189052336, 0.7264902833055404]\n",
      "14 [9, 4, 33, 4, 2, 26, 19, 52, 19, 5, 4, 11, 18, 45]\n"
     ]
    }
   ],
   "source": [
    "test(2)"
   ]
  },
  {
   "cell_type": "code",
   "execution_count": 77,
   "id": "5396c985",
   "metadata": {},
   "outputs": [
    {
     "name": "stderr",
     "output_type": "stream",
     "text": [
      "C:\\Users\\jweun\\anaconda3\\lib\\site-packages\\sklearn\\cluster\\_kmeans.py:870: FutureWarning: The default value of `n_init` will change from 10 to 'auto' in 1.4. Set the value of `n_init` explicitly to suppress the warning\n",
      "  warnings.warn(\n",
      "C:\\Users\\jweun\\anaconda3\\lib\\site-packages\\sklearn\\cluster\\_kmeans.py:1382: UserWarning: KMeans is known to have a memory leak on Windows with MKL, when there are less chunks than available threads. You can avoid it by setting the environment variable OMP_NUM_THREADS=1.\n",
      "  warnings.warn(\n"
     ]
    },
    {
     "name": "stdout",
     "output_type": "stream",
     "text": [
      "0.4948429495755668\n",
      "15 [0.6780477109401152, 0.6653001740431808, -0.0072917526055653464, 0.6424637286184305, 0.5745273342900888, 0.5858106711917949, 0.2179618210979452, 0.30573517335892136, 0.4194103094457257, 0.5057802355569707, 0.09407938844544131, 0.3422201774126114, 0.6612591864887982, 0.5978325379653487, 0.5793476771226673]\n",
      "15 [13, 7, 8, 35, 10, 7, 14, 21, 6, 10, 5, 31, 10, 46, 28]\n"
     ]
    }
   ],
   "source": [
    "test(3)"
   ]
  },
  {
   "cell_type": "code",
   "execution_count": 78,
   "id": "c7ced94d",
   "metadata": {},
   "outputs": [
    {
     "name": "stderr",
     "output_type": "stream",
     "text": [
      "C:\\Users\\jweun\\anaconda3\\lib\\site-packages\\sklearn\\cluster\\_kmeans.py:870: FutureWarning: The default value of `n_init` will change from 10 to 'auto' in 1.4. Set the value of `n_init` explicitly to suppress the warning\n",
      "  warnings.warn(\n",
      "C:\\Users\\jweun\\anaconda3\\lib\\site-packages\\sklearn\\cluster\\_kmeans.py:1382: UserWarning: KMeans is known to have a memory leak on Windows with MKL, when there are less chunks than available threads. You can avoid it by setting the environment variable OMP_NUM_THREADS=1.\n",
      "  warnings.warn(\n"
     ]
    },
    {
     "name": "stdout",
     "output_type": "stream",
     "text": [
      "0.525443847229869\n",
      "16 [0.504650958355038, 0.5529344811626083, 0.43133373965973437, -0.18652903118506395, 0.8384097129450313, 0.48334210843442676, 0.3379340606152645, 0.7347741624159051, 0.6108064469068325, 0.4824726575101426, 0.5930401115350751, 0.48715737264500963, 0.49457937603488006, 0.5907420820977727, 0.4681041231870434, 0.9586614265081803]\n",
      "16 [7, 19, 6, 11, 8, 9, 8, 13, 71, 14, 5, 11, 21, 14, 32, 2]\n"
     ]
    }
   ],
   "source": [
    "test(4)"
   ]
  },
  {
   "cell_type": "code",
   "execution_count": 79,
   "id": "2231312c",
   "metadata": {},
   "outputs": [
    {
     "name": "stderr",
     "output_type": "stream",
     "text": [
      "C:\\Users\\jweun\\anaconda3\\lib\\site-packages\\sklearn\\cluster\\_kmeans.py:870: FutureWarning: The default value of `n_init` will change from 10 to 'auto' in 1.4. Set the value of `n_init` explicitly to suppress the warning\n",
      "  warnings.warn(\n",
      "C:\\Users\\jweun\\anaconda3\\lib\\site-packages\\sklearn\\cluster\\_kmeans.py:1382: UserWarning: KMeans is known to have a memory leak on Windows with MKL, when there are less chunks than available threads. You can avoid it by setting the environment variable OMP_NUM_THREADS=1.\n",
      "  warnings.warn(\n"
     ]
    },
    {
     "name": "stdout",
     "output_type": "stream",
     "text": [
      "0.44152405116300386\n",
      "17 [0.7042780599209287, 0.23901595657886093, -0.3491354447072623, 0.2861137991024416, 0.38675883967291136, 0.5455377877608688, 0.020307282461098197, 0.7718337403337796, 0.5171925303496265, 0.5873748824744401, 0.17250181901051448, 0.6524369247993201, 0.4672221601729636, 0.6445248070014498, 0.687969885939292, 0.4873526179457642, 0.4770701907806257]\n",
      "17 [25, 5, 18, 11, 17, 20, 4, 4, 9, 28, 19, 12, 13, 19, 6, 28, 13]\n"
     ]
    }
   ],
   "source": [
    "test(5)"
   ]
  },
  {
   "cell_type": "code",
   "execution_count": 80,
   "id": "4ac11136",
   "metadata": {},
   "outputs": [
    {
     "name": "stderr",
     "output_type": "stream",
     "text": [
      "C:\\Users\\jweun\\anaconda3\\lib\\site-packages\\sklearn\\cluster\\_kmeans.py:870: FutureWarning: The default value of `n_init` will change from 10 to 'auto' in 1.4. Set the value of `n_init` explicitly to suppress the warning\n",
      "  warnings.warn(\n",
      "C:\\Users\\jweun\\anaconda3\\lib\\site-packages\\sklearn\\cluster\\_kmeans.py:1382: UserWarning: KMeans is known to have a memory leak on Windows with MKL, when there are less chunks than available threads. You can avoid it by setting the environment variable OMP_NUM_THREADS=1.\n",
      "  warnings.warn(\n"
     ]
    },
    {
     "name": "stdout",
     "output_type": "stream",
     "text": [
      "0.43208817270238914\n",
      "18 [0.39085178188439224, 0.718808750440905, 0.4592324926913847, -0.15144318613328192, 0.5764029874833684, 0.6298448205786642, 0.5641953262965259, 0.1922129458187727, -0.018562726765221874, 0.4475006496341365, 0.15540731179685893, 0.5218870548583798, 0.5534489570659045, 0.46436284504095937, 0.7112783563637681, 0.6572308217243076, 0.6699303421907558, 0.5648275123297555]\n",
      "18 [12, 3, 14, 10, 8, 16, 8, 12, 9, 44, 23, 21, 9, 19, 5, 9, 14, 15]\n"
     ]
    }
   ],
   "source": [
    "test(6)"
   ]
  },
  {
   "cell_type": "code",
   "execution_count": 81,
   "id": "75ab15b9",
   "metadata": {},
   "outputs": [
    {
     "name": "stderr",
     "output_type": "stream",
     "text": [
      "C:\\Users\\jweun\\anaconda3\\lib\\site-packages\\sklearn\\cluster\\_kmeans.py:870: FutureWarning: The default value of `n_init` will change from 10 to 'auto' in 1.4. Set the value of `n_init` explicitly to suppress the warning\n",
      "  warnings.warn(\n",
      "C:\\Users\\jweun\\anaconda3\\lib\\site-packages\\sklearn\\cluster\\_kmeans.py:1382: UserWarning: KMeans is known to have a memory leak on Windows with MKL, when there are less chunks than available threads. You can avoid it by setting the environment variable OMP_NUM_THREADS=1.\n",
      "  warnings.warn(\n"
     ]
    },
    {
     "name": "stdout",
     "output_type": "stream",
     "text": [
      "0.38844359844860127\n",
      "19 [0.6915641231373051, 0.04153513280061343, -0.24696092973193573, 0.9993628664957883, 0.4779426301404431, 0.31331047269145135, 0.5606313358861681, 0.3882158052100077, 0.5907028625691941, 0.3110710900228778, 0.2745138827824758, 0.47432930556141456, 0.27888783661655314, 0.44657764333637856, 0.2971637492481782, 0.0, 0.690135444323953, 0.7169824776111507, 0.42013707810623624]\n",
      "19 [19, 7, 20, 2, 27, 11, 3, 9, 21, 19, 5, 15, 38, 12, 7, 1, 11, 10, 14]\n"
     ]
    }
   ],
   "source": [
    "test(7)"
   ]
  },
  {
   "cell_type": "code",
   "execution_count": 82,
   "id": "23ba8d01",
   "metadata": {},
   "outputs": [
    {
     "name": "stderr",
     "output_type": "stream",
     "text": [
      "C:\\Users\\jweun\\anaconda3\\lib\\site-packages\\sklearn\\cluster\\_kmeans.py:870: FutureWarning: The default value of `n_init` will change from 10 to 'auto' in 1.4. Set the value of `n_init` explicitly to suppress the warning\n",
      "  warnings.warn(\n",
      "C:\\Users\\jweun\\anaconda3\\lib\\site-packages\\sklearn\\cluster\\_kmeans.py:1382: UserWarning: KMeans is known to have a memory leak on Windows with MKL, when there are less chunks than available threads. You can avoid it by setting the environment variable OMP_NUM_THREADS=1.\n",
      "  warnings.warn(\n"
     ]
    },
    {
     "name": "stdout",
     "output_type": "stream",
     "text": [
      "0.38565906579541975\n",
      "20 [0.3626798876387895, 0.5708788152542313, 0.6094123686070047, 0.46180267993452684, 0.7071365810816889, 0.14666893823931437, 0.41810433571147215, 0.3934293714443548, 0.3018091091893892, 0.4715075552848703, 0.5532010001800547, 0.4419886870413545, -0.310282345912726, 0.32634176666702813, 0.36789755661784235, 0.6595241645908024, 0.25960247179927126, 0.4793444482022549, 0.6009145883991852, 0.6557644188138859]\n",
      "20 [6, 14, 6, 13, 11, 18, 6, 10, 21, 16, 11, 25, 22, 11, 15, 10, 2, 11, 12, 11]\n"
     ]
    }
   ],
   "source": [
    "test(8)"
   ]
  },
  {
   "cell_type": "code",
   "execution_count": 83,
   "id": "b01feeaf",
   "metadata": {},
   "outputs": [
    {
     "name": "stderr",
     "output_type": "stream",
     "text": [
      "C:\\Users\\jweun\\anaconda3\\lib\\site-packages\\sklearn\\cluster\\_kmeans.py:870: FutureWarning: The default value of `n_init` will change from 10 to 'auto' in 1.4. Set the value of `n_init` explicitly to suppress the warning\n",
      "  warnings.warn(\n",
      "C:\\Users\\jweun\\anaconda3\\lib\\site-packages\\sklearn\\cluster\\_kmeans.py:1382: UserWarning: KMeans is known to have a memory leak on Windows with MKL, when there are less chunks than available threads. You can avoid it by setting the environment variable OMP_NUM_THREADS=1.\n",
      "  warnings.warn(\n"
     ]
    },
    {
     "name": "stdout",
     "output_type": "stream",
     "text": [
      "0.37448281045530174\n",
      "21 [0.44289825134606675, 0.09137162064030159, 0.6658602761971791, 0.6342699414718372, 0.26652679041607114, -0.2903650996790189, 0.6569125333044956, 0.3778501893013577, 0.375213189459027, 0.423266981945163, 0.6483207264213097, 0.5910306978247512, 0.6519881021966374, 0.6027159804660267, 0.8372559142578236, 0.5170666434431256, 0.5076582566439324, 0.37086104155316196, 0.5079055527670499, 0.37459459935708916, -0.05017496008048363]\n",
      "21 [21, 14, 7, 3, 16, 20, 3, 23, 21, 31, 3, 14, 5, 3, 6, 25, 5, 13, 5, 10, 3]\n"
     ]
    }
   ],
   "source": [
    "test(9)"
   ]
  },
  {
   "cell_type": "code",
   "execution_count": 84,
   "id": "c247d5db",
   "metadata": {},
   "outputs": [
    {
     "name": "stderr",
     "output_type": "stream",
     "text": [
      "C:\\Users\\jweun\\anaconda3\\lib\\site-packages\\sklearn\\cluster\\_kmeans.py:870: FutureWarning: The default value of `n_init` will change from 10 to 'auto' in 1.4. Set the value of `n_init` explicitly to suppress the warning\n",
      "  warnings.warn(\n",
      "C:\\Users\\jweun\\anaconda3\\lib\\site-packages\\sklearn\\cluster\\_kmeans.py:1382: UserWarning: KMeans is known to have a memory leak on Windows with MKL, when there are less chunks than available threads. You can avoid it by setting the environment variable OMP_NUM_THREADS=1.\n",
      "  warnings.warn(\n"
     ]
    },
    {
     "name": "stdout",
     "output_type": "stream",
     "text": [
      "0.41595609586327603\n",
      "22 [0.48544910893143384, 0.7779696461260722, 0.8724970460746154, 0.15580047821901236, 0.2714553510728582, 0.22397779711311022, 0.6625536073977247, 0.20561880366094598, 0.44457631327564, 0.46075673147268703, 0.6688363875320217, 0.40586658785249646, 0.5446238199339241, 0.0, 0.19694007529260976, 0.4296963338423561, -0.23518579550628335, 0.4379582037675447, 0.7149439426785145, 0.45320708243593183, 0.6226116853620556, 0.6423617745689891]\n",
      "22 [24, 8, 3, 6, 14, 9, 2, 15, 8, 13, 8, 26, 22, 1, 17, 16, 12, 8, 21, 11, 4, 3]\n"
     ]
    }
   ],
   "source": [
    "test(10)"
   ]
  },
  {
   "cell_type": "code",
   "execution_count": 85,
   "id": "3ad32575",
   "metadata": {},
   "outputs": [
    {
     "name": "stderr",
     "output_type": "stream",
     "text": [
      "C:\\Users\\jweun\\anaconda3\\lib\\site-packages\\sklearn\\cluster\\_kmeans.py:870: FutureWarning: The default value of `n_init` will change from 10 to 'auto' in 1.4. Set the value of `n_init` explicitly to suppress the warning\n",
      "  warnings.warn(\n",
      "C:\\Users\\jweun\\anaconda3\\lib\\site-packages\\sklearn\\cluster\\_kmeans.py:1382: UserWarning: KMeans is known to have a memory leak on Windows with MKL, when there are less chunks than available threads. You can avoid it by setting the environment variable OMP_NUM_THREADS=1.\n",
      "  warnings.warn(\n"
     ]
    },
    {
     "name": "stdout",
     "output_type": "stream",
     "text": [
      "0.5634912222438587\n",
      "11 [0.23332965464742467, 0.6349414551687362, 0.4587098813209028, 0.6282858981125581, -0.0683918881657434, 0.26237131048433643, 0.47361573681639546, 0.6407589512981429, 0.7223230346890417, 0.6255678060134727, 0.5897922442300936]\n",
      "11 [14, 2, 46, 10, 8, 11, 15, 22, 100, 5, 18]\n"
     ]
    }
   ],
   "source": [
    "test(-1)"
   ]
  },
  {
   "cell_type": "code",
   "execution_count": 86,
   "id": "cdd0c9d9",
   "metadata": {},
   "outputs": [
    {
     "name": "stderr",
     "output_type": "stream",
     "text": [
      "C:\\Users\\jweun\\anaconda3\\lib\\site-packages\\sklearn\\cluster\\_kmeans.py:870: FutureWarning: The default value of `n_init` will change from 10 to 'auto' in 1.4. Set the value of `n_init` explicitly to suppress the warning\n",
      "  warnings.warn(\n",
      "C:\\Users\\jweun\\anaconda3\\lib\\site-packages\\sklearn\\cluster\\_kmeans.py:1382: UserWarning: KMeans is known to have a memory leak on Windows with MKL, when there are less chunks than available threads. You can avoid it by setting the environment variable OMP_NUM_THREADS=1.\n",
      "  warnings.warn(\n"
     ]
    },
    {
     "name": "stdout",
     "output_type": "stream",
     "text": [
      "0.5065628190278963\n",
      "10 [0.8610979165087005, 0.6275816896060583, -0.2727232715793145, 0.5082424741414994, 0.5050921928487427, 0.4631493287032177, 0.7045085772518412, 0.5328457131391684, 0.4515121841554401, 0.5689714577802597]\n",
      "10 [3, 24, 25, 42, 9, 22, 81, 25, 13, 7]\n"
     ]
    }
   ],
   "source": [
    "test(-2)"
   ]
  },
  {
   "cell_type": "code",
   "execution_count": 88,
   "id": "e81ca9b6",
   "metadata": {},
   "outputs": [
    {
     "name": "stderr",
     "output_type": "stream",
     "text": [
      "C:\\Users\\jweun\\anaconda3\\lib\\site-packages\\sklearn\\cluster\\_kmeans.py:870: FutureWarning: The default value of `n_init` will change from 10 to 'auto' in 1.4. Set the value of `n_init` explicitly to suppress the warning\n",
      "  warnings.warn(\n",
      "C:\\Users\\jweun\\anaconda3\\lib\\site-packages\\sklearn\\cluster\\_kmeans.py:1382: UserWarning: KMeans is known to have a memory leak on Windows with MKL, when there are less chunks than available threads. You can avoid it by setting the environment variable OMP_NUM_THREADS=1.\n",
      "  warnings.warn(\n"
     ]
    },
    {
     "name": "stdout",
     "output_type": "stream",
     "text": [
      "0.44303952824802834\n",
      "9 [0.4965234062526403, 0.6244821324091829, 0.4264857142663499, -0.29046904973948595, 0.5857979341844798, 0.5195692628881352, 0.33571171166715275, 0.7029878773423035, 0.3414204158035077]\n",
      "9 [45, 10, 28, 27, 7, 13, 8, 73, 40]\n"
     ]
    }
   ],
   "source": [
    "test(-3)"
   ]
  },
  {
   "cell_type": "code",
   "execution_count": 89,
   "id": "66955ea5",
   "metadata": {},
   "outputs": [
    {
     "name": "stderr",
     "output_type": "stream",
     "text": [
      "C:\\Users\\jweun\\anaconda3\\lib\\site-packages\\sklearn\\cluster\\_kmeans.py:870: FutureWarning: The default value of `n_init` will change from 10 to 'auto' in 1.4. Set the value of `n_init` explicitly to suppress the warning\n",
      "  warnings.warn(\n",
      "C:\\Users\\jweun\\anaconda3\\lib\\site-packages\\sklearn\\cluster\\_kmeans.py:1382: UserWarning: KMeans is known to have a memory leak on Windows with MKL, when there are less chunks than available threads. You can avoid it by setting the environment variable OMP_NUM_THREADS=1.\n",
      "  warnings.warn(\n"
     ]
    },
    {
     "name": "stdout",
     "output_type": "stream",
     "text": [
      "0.5666973916407763\n",
      "8 [0.6876486404672975, 0.6292112806340938, 0.5159969413638726, 0.11348092742384966, 0.47414975249576125, 0.46032874614003216, 0.7271015390642706, 0.47207720656491947]\n",
      "8 [13, 4, 47, 20, 20, 10, 100, 37]\n"
     ]
    }
   ],
   "source": [
    "test(-4)"
   ]
  },
  {
   "cell_type": "code",
   "execution_count": 90,
   "id": "4f5c94f1",
   "metadata": {},
   "outputs": [
    {
     "name": "stderr",
     "output_type": "stream",
     "text": [
      "C:\\Users\\jweun\\anaconda3\\lib\\site-packages\\sklearn\\cluster\\_kmeans.py:870: FutureWarning: The default value of `n_init` will change from 10 to 'auto' in 1.4. Set the value of `n_init` explicitly to suppress the warning\n",
      "  warnings.warn(\n",
      "C:\\Users\\jweun\\anaconda3\\lib\\site-packages\\sklearn\\cluster\\_kmeans.py:1382: UserWarning: KMeans is known to have a memory leak on Windows with MKL, when there are less chunks than available threads. You can avoid it by setting the environment variable OMP_NUM_THREADS=1.\n",
      "  warnings.warn(\n"
     ]
    },
    {
     "name": "stdout",
     "output_type": "stream",
     "text": [
      "0.43084508384135517\n",
      "7 [-0.2923228452258715, 0.4022600280586577, 0.6493730969604589, 0.42069434755584356, 0.42654800670140103, 0.6079898308572006, 0.735047985713414]\n",
      "7 [34, 40, 13, 52, 30, 11, 71]\n"
     ]
    }
   ],
   "source": [
    "test(-5)"
   ]
  },
  {
   "cell_type": "code",
   "execution_count": 91,
   "id": "6253ba46",
   "metadata": {},
   "outputs": [
    {
     "name": "stderr",
     "output_type": "stream",
     "text": [
      "C:\\Users\\jweun\\anaconda3\\lib\\site-packages\\sklearn\\cluster\\_kmeans.py:870: FutureWarning: The default value of `n_init` will change from 10 to 'auto' in 1.4. Set the value of `n_init` explicitly to suppress the warning\n",
      "  warnings.warn(\n",
      "C:\\Users\\jweun\\anaconda3\\lib\\site-packages\\sklearn\\cluster\\_kmeans.py:1382: UserWarning: KMeans is known to have a memory leak on Windows with MKL, when there are less chunks than available threads. You can avoid it by setting the environment variable OMP_NUM_THREADS=1.\n",
      "  warnings.warn(\n"
     ]
    },
    {
     "name": "stdout",
     "output_type": "stream",
     "text": [
      "0.47255678749145247\n",
      "6 [0.7735091240804867, 0.47414975249576125, -0.2923228452258715, 0.5032376689436628, 0.7274578164179739, 0.38851164516418546]\n",
      "6 [88, 20, 34, 37, 13, 59]\n"
     ]
    }
   ],
   "source": [
    "test(-6)"
   ]
  },
  {
   "cell_type": "code",
   "execution_count": 92,
   "id": "1641587a",
   "metadata": {},
   "outputs": [
    {
     "name": "stderr",
     "output_type": "stream",
     "text": [
      "C:\\Users\\jweun\\anaconda3\\lib\\site-packages\\sklearn\\cluster\\_kmeans.py:870: FutureWarning: The default value of `n_init` will change from 10 to 'auto' in 1.4. Set the value of `n_init` explicitly to suppress the warning\n",
      "  warnings.warn(\n",
      "C:\\Users\\jweun\\anaconda3\\lib\\site-packages\\sklearn\\cluster\\_kmeans.py:1382: UserWarning: KMeans is known to have a memory leak on Windows with MKL, when there are less chunks than available threads. You can avoid it by setting the environment variable OMP_NUM_THREADS=1.\n",
      "  warnings.warn(\n",
      "C:\\Users\\jweun\\anaconda3\\lib\\site-packages\\sklearn\\cluster\\_kmeans.py:870: FutureWarning: The default value of `n_init` will change from 10 to 'auto' in 1.4. Set the value of `n_init` explicitly to suppress the warning\n",
      "  warnings.warn(\n",
      "C:\\Users\\jweun\\anaconda3\\lib\\site-packages\\sklearn\\cluster\\_kmeans.py:1382: UserWarning: KMeans is known to have a memory leak on Windows with MKL, when there are less chunks than available threads. You can avoid it by setting the environment variable OMP_NUM_THREADS=1.\n",
      "  warnings.warn(\n",
      "C:\\Users\\jweun\\anaconda3\\lib\\site-packages\\sklearn\\cluster\\_kmeans.py:870: FutureWarning: The default value of `n_init` will change from 10 to 'auto' in 1.4. Set the value of `n_init` explicitly to suppress the warning\n",
      "  warnings.warn(\n",
      "C:\\Users\\jweun\\anaconda3\\lib\\site-packages\\sklearn\\cluster\\_kmeans.py:1382: UserWarning: KMeans is known to have a memory leak on Windows with MKL, when there are less chunks than available threads. You can avoid it by setting the environment variable OMP_NUM_THREADS=1.\n",
      "  warnings.warn(\n",
      "C:\\Users\\jweun\\anaconda3\\lib\\site-packages\\sklearn\\cluster\\_kmeans.py:870: FutureWarning: The default value of `n_init` will change from 10 to 'auto' in 1.4. Set the value of `n_init` explicitly to suppress the warning\n",
      "  warnings.warn(\n",
      "C:\\Users\\jweun\\anaconda3\\lib\\site-packages\\sklearn\\cluster\\_kmeans.py:1382: UserWarning: KMeans is known to have a memory leak on Windows with MKL, when there are less chunks than available threads. You can avoid it by setting the environment variable OMP_NUM_THREADS=1.\n",
      "  warnings.warn(\n",
      "C:\\Users\\jweun\\anaconda3\\lib\\site-packages\\sklearn\\cluster\\_kmeans.py:870: FutureWarning: The default value of `n_init` will change from 10 to 'auto' in 1.4. Set the value of `n_init` explicitly to suppress the warning\n",
      "  warnings.warn(\n",
      "C:\\Users\\jweun\\anaconda3\\lib\\site-packages\\sklearn\\cluster\\_kmeans.py:1382: UserWarning: KMeans is known to have a memory leak on Windows with MKL, when there are less chunks than available threads. You can avoid it by setting the environment variable OMP_NUM_THREADS=1.\n",
      "  warnings.warn(\n",
      "C:\\Users\\jweun\\anaconda3\\lib\\site-packages\\sklearn\\cluster\\_kmeans.py:870: FutureWarning: The default value of `n_init` will change from 10 to 'auto' in 1.4. Set the value of `n_init` explicitly to suppress the warning\n",
      "  warnings.warn(\n",
      "C:\\Users\\jweun\\anaconda3\\lib\\site-packages\\sklearn\\cluster\\_kmeans.py:1382: UserWarning: KMeans is known to have a memory leak on Windows with MKL, when there are less chunks than available threads. You can avoid it by setting the environment variable OMP_NUM_THREADS=1.\n",
      "  warnings.warn(\n",
      "C:\\Users\\jweun\\anaconda3\\lib\\site-packages\\sklearn\\cluster\\_kmeans.py:870: FutureWarning: The default value of `n_init` will change from 10 to 'auto' in 1.4. Set the value of `n_init` explicitly to suppress the warning\n",
      "  warnings.warn(\n",
      "C:\\Users\\jweun\\anaconda3\\lib\\site-packages\\sklearn\\cluster\\_kmeans.py:1382: UserWarning: KMeans is known to have a memory leak on Windows with MKL, when there are less chunks than available threads. You can avoid it by setting the environment variable OMP_NUM_THREADS=1.\n",
      "  warnings.warn(\n",
      "C:\\Users\\jweun\\anaconda3\\lib\\site-packages\\sklearn\\cluster\\_kmeans.py:870: FutureWarning: The default value of `n_init` will change from 10 to 'auto' in 1.4. Set the value of `n_init` explicitly to suppress the warning\n",
      "  warnings.warn(\n",
      "C:\\Users\\jweun\\anaconda3\\lib\\site-packages\\sklearn\\cluster\\_kmeans.py:1382: UserWarning: KMeans is known to have a memory leak on Windows with MKL, when there are less chunks than available threads. You can avoid it by setting the environment variable OMP_NUM_THREADS=1.\n",
      "  warnings.warn(\n",
      "C:\\Users\\jweun\\anaconda3\\lib\\site-packages\\sklearn\\cluster\\_kmeans.py:870: FutureWarning: The default value of `n_init` will change from 10 to 'auto' in 1.4. Set the value of `n_init` explicitly to suppress the warning\n",
      "  warnings.warn(\n",
      "C:\\Users\\jweun\\anaconda3\\lib\\site-packages\\sklearn\\cluster\\_kmeans.py:1382: UserWarning: KMeans is known to have a memory leak on Windows with MKL, when there are less chunks than available threads. You can avoid it by setting the environment variable OMP_NUM_THREADS=1.\n",
      "  warnings.warn(\n"
     ]
    },
    {
     "data": {
      "image/png": "[encoded data removed]",
      "text/plain": [
       "<Figure size 640x480 with 1 Axes>"
      ]
     },
     "metadata": {},
     "output_type": "display_data"
    }
   ],
   "source": [
    "import seaborn as sns\n",
    "\n",
    "gdf = df.groupby(['UserID', 'VenueCategoryName']).size().reset_index()\n",
    "gdf.columns = ['UserID', 'VenueCategoryName', 'N']\n",
    "re_category = pd.pivot_table(gdf, index='VenueCategoryName', columns='UserID', values='N', fill_value=0)\n",
    "corr = re_category.div(re_category.sum(axis=0)).mul(100)\n",
    "corr['sum'] = corr.sum(axis=1)\n",
    "X_sample = corr[['sum']].sample(frac=0.1)\n",
    "\n",
    "def visualize_inertia(cluster_lists, X_features):\n",
    "    inertias = []\n",
    "    for n_cluster in cluster_lists:\n",
    "        k_means = KMeans(n_clusters = n_cluster, max_iter=500, random_state=0)\n",
    "        k_means.fit(X_features)\n",
    "        inertias.append(k_means.inertia_)\n",
    "        \n",
    "    sns.lineplot(x=cluster_lists, y=inertias)\n",
    "    \n",
    "visualize_inertia([i for i in range(8, 17)], corr[['sum']])"
   ]
  },
  {
   "cell_type": "code",
   "execution_count": 95,
   "id": "1c8f441a",
   "metadata": {},
   "outputs": [
    {
     "name": "stderr",
     "output_type": "stream",
     "text": [
      "C:\\Users\\jweun\\anaconda3\\lib\\site-packages\\sklearn\\cluster\\_kmeans.py:870: FutureWarning: The default value of `n_init` will change from 10 to 'auto' in 1.4. Set the value of `n_init` explicitly to suppress the warning\n",
      "  warnings.warn(\n",
      "C:\\Users\\jweun\\anaconda3\\lib\\site-packages\\sklearn\\cluster\\_kmeans.py:1382: UserWarning: KMeans is known to have a memory leak on Windows with MKL, when there are less chunks than available threads. You can avoid it by setting the environment variable OMP_NUM_THREADS=1.\n",
      "  warnings.warn(\n",
      "C:\\Users\\jweun\\anaconda3\\lib\\site-packages\\sklearn\\cluster\\_kmeans.py:870: FutureWarning: The default value of `n_init` will change from 10 to 'auto' in 1.4. Set the value of `n_init` explicitly to suppress the warning\n",
      "  warnings.warn(\n",
      "C:\\Users\\jweun\\anaconda3\\lib\\site-packages\\sklearn\\cluster\\_kmeans.py:1382: UserWarning: KMeans is known to have a memory leak on Windows with MKL, when there are less chunks than available threads. You can avoid it by setting the environment variable OMP_NUM_THREADS=1.\n",
      "  warnings.warn(\n",
      "C:\\Users\\jweun\\anaconda3\\lib\\site-packages\\sklearn\\cluster\\_kmeans.py:870: FutureWarning: The default value of `n_init` will change from 10 to 'auto' in 1.4. Set the value of `n_init` explicitly to suppress the warning\n",
      "  warnings.warn(\n",
      "C:\\Users\\jweun\\anaconda3\\lib\\site-packages\\sklearn\\cluster\\_kmeans.py:1382: UserWarning: KMeans is known to have a memory leak on Windows with MKL, when there are less chunks than available threads. You can avoid it by setting the environment variable OMP_NUM_THREADS=1.\n",
      "  warnings.warn(\n",
      "C:\\Users\\jweun\\anaconda3\\lib\\site-packages\\sklearn\\cluster\\_kmeans.py:870: FutureWarning: The default value of `n_init` will change from 10 to 'auto' in 1.4. Set the value of `n_init` explicitly to suppress the warning\n",
      "  warnings.warn(\n",
      "C:\\Users\\jweun\\anaconda3\\lib\\site-packages\\sklearn\\cluster\\_kmeans.py:1382: UserWarning: KMeans is known to have a memory leak on Windows with MKL, when there are less chunks than available threads. You can avoid it by setting the environment variable OMP_NUM_THREADS=1.\n",
      "  warnings.warn(\n",
      "C:\\Users\\jweun\\anaconda3\\lib\\site-packages\\sklearn\\cluster\\_kmeans.py:870: FutureWarning: The default value of `n_init` will change from 10 to 'auto' in 1.4. Set the value of `n_init` explicitly to suppress the warning\n",
      "  warnings.warn(\n",
      "C:\\Users\\jweun\\anaconda3\\lib\\site-packages\\sklearn\\cluster\\_kmeans.py:1382: UserWarning: KMeans is known to have a memory leak on Windows with MKL, when there are less chunks than available threads. You can avoid it by setting the environment variable OMP_NUM_THREADS=1.\n",
      "  warnings.warn(\n",
      "C:\\Users\\jweun\\anaconda3\\lib\\site-packages\\sklearn\\cluster\\_kmeans.py:870: FutureWarning: The default value of `n_init` will change from 10 to 'auto' in 1.4. Set the value of `n_init` explicitly to suppress the warning\n",
      "  warnings.warn(\n",
      "C:\\Users\\jweun\\anaconda3\\lib\\site-packages\\sklearn\\cluster\\_kmeans.py:1382: UserWarning: KMeans is known to have a memory leak on Windows with MKL, when there are less chunks than available threads. You can avoid it by setting the environment variable OMP_NUM_THREADS=1.\n",
      "  warnings.warn(\n",
      "C:\\Users\\jweun\\anaconda3\\lib\\site-packages\\sklearn\\cluster\\_kmeans.py:870: FutureWarning: The default value of `n_init` will change from 10 to 'auto' in 1.4. Set the value of `n_init` explicitly to suppress the warning\n",
      "  warnings.warn(\n",
      "C:\\Users\\jweun\\anaconda3\\lib\\site-packages\\sklearn\\cluster\\_kmeans.py:1382: UserWarning: KMeans is known to have a memory leak on Windows with MKL, when there are less chunks than available threads. You can avoid it by setting the environment variable OMP_NUM_THREADS=1.\n",
      "  warnings.warn(\n",
      "C:\\Users\\jweun\\anaconda3\\lib\\site-packages\\sklearn\\cluster\\_kmeans.py:870: FutureWarning: The default value of `n_init` will change from 10 to 'auto' in 1.4. Set the value of `n_init` explicitly to suppress the warning\n",
      "  warnings.warn(\n",
      "C:\\Users\\jweun\\anaconda3\\lib\\site-packages\\sklearn\\cluster\\_kmeans.py:1382: UserWarning: KMeans is known to have a memory leak on Windows with MKL, when there are less chunks than available threads. You can avoid it by setting the environment variable OMP_NUM_THREADS=1.\n",
      "  warnings.warn(\n",
      "C:\\Users\\jweun\\anaconda3\\lib\\site-packages\\sklearn\\cluster\\_kmeans.py:870: FutureWarning: The default value of `n_init` will change from 10 to 'auto' in 1.4. Set the value of `n_init` explicitly to suppress the warning\n",
      "  warnings.warn(\n",
      "C:\\Users\\jweun\\anaconda3\\lib\\site-packages\\sklearn\\cluster\\_kmeans.py:1382: UserWarning: KMeans is known to have a memory leak on Windows with MKL, when there are less chunks than available threads. You can avoid it by setting the environment variable OMP_NUM_THREADS=1.\n",
      "  warnings.warn(\n",
      "C:\\Users\\jweun\\anaconda3\\lib\\site-packages\\sklearn\\cluster\\_kmeans.py:870: FutureWarning: The default value of `n_init` will change from 10 to 'auto' in 1.4. Set the value of `n_init` explicitly to suppress the warning\n",
      "  warnings.warn(\n",
      "C:\\Users\\jweun\\anaconda3\\lib\\site-packages\\sklearn\\cluster\\_kmeans.py:1382: UserWarning: KMeans is known to have a memory leak on Windows with MKL, when there are less chunks than available threads. You can avoid it by setting the environment variable OMP_NUM_THREADS=1.\n",
      "  warnings.warn(\n",
      "C:\\Users\\jweun\\anaconda3\\lib\\site-packages\\sklearn\\cluster\\_kmeans.py:870: FutureWarning: The default value of `n_init` will change from 10 to 'auto' in 1.4. Set the value of `n_init` explicitly to suppress the warning\n",
      "  warnings.warn(\n",
      "C:\\Users\\jweun\\anaconda3\\lib\\site-packages\\sklearn\\cluster\\_kmeans.py:1382: UserWarning: KMeans is known to have a memory leak on Windows with MKL, when there are less chunks than available threads. You can avoid it by setting the environment variable OMP_NUM_THREADS=1.\n",
      "  warnings.warn(\n",
      "C:\\Users\\jweun\\anaconda3\\lib\\site-packages\\sklearn\\cluster\\_kmeans.py:870: FutureWarning: The default value of `n_init` will change from 10 to 'auto' in 1.4. Set the value of `n_init` explicitly to suppress the warning\n",
      "  warnings.warn(\n",
      "C:\\Users\\jweun\\anaconda3\\lib\\site-packages\\sklearn\\cluster\\_kmeans.py:1382: UserWarning: KMeans is known to have a memory leak on Windows with MKL, when there are less chunks than available threads. You can avoid it by setting the environment variable OMP_NUM_THREADS=1.\n",
      "  warnings.warn(\n",
      "C:\\Users\\jweun\\anaconda3\\lib\\site-packages\\sklearn\\cluster\\_kmeans.py:870: FutureWarning: The default value of `n_init` will change from 10 to 'auto' in 1.4. Set the value of `n_init` explicitly to suppress the warning\n",
      "  warnings.warn(\n",
      "C:\\Users\\jweun\\anaconda3\\lib\\site-packages\\sklearn\\cluster\\_kmeans.py:1382: UserWarning: KMeans is known to have a memory leak on Windows with MKL, when there are less chunks than available threads. You can avoid it by setting the environment variable OMP_NUM_THREADS=1.\n",
      "  warnings.warn(\n",
      "C:\\Users\\jweun\\anaconda3\\lib\\site-packages\\sklearn\\cluster\\_kmeans.py:870: FutureWarning: The default value of `n_init` will change from 10 to 'auto' in 1.4. Set the value of `n_init` explicitly to suppress the warning\n",
      "  warnings.warn(\n",
      "C:\\Users\\jweun\\anaconda3\\lib\\site-packages\\sklearn\\cluster\\_kmeans.py:1382: UserWarning: KMeans is known to have a memory leak on Windows with MKL, when there are less chunks than available threads. You can avoid it by setting the environment variable OMP_NUM_THREADS=1.\n",
      "  warnings.warn(\n"
     ]
    },
    {
     "data": {
      "image/png": "[encoded data removed]",
      "text/plain": [
       "<Figure size 640x480 with 1 Axes>"
      ]
     },
     "metadata": {},
     "output_type": "display_data"
    }
   ],
   "source": [
    "visualize_inertia([i for i in range(3, 17)], corr[['sum']])"
   ]
  },
  {
   "cell_type": "code",
   "execution_count": null,
   "id": "6a2132d9",
   "metadata": {},
   "outputs": [],
   "source": [
    "\n",
    "\n"
   ]
  },
  {
   "cell_type": "code",
   "execution_count": 96,
   "id": "b3831a4c",
   "metadata": {},
   "outputs": [
    {
     "data": {
      "text/plain": [
       "12"
      ]
     },
     "execution_count": 96,
     "metadata": {},
     "output_type": "execute_result"
    }
   ],
   "source": [
    "math.ceil(math.sqrt(corr.shape[0] / 2))"
   ]
  },
  {
   "cell_type": "code",
   "execution_count": 97,
   "id": "bebd7d4b",
   "metadata": {},
   "outputs": [
    {
     "data": {
      "text/plain": [
       "11.20267825120404"
      ]
     },
     "execution_count": 97,
     "metadata": {},
     "output_type": "execute_result"
    }
   ],
   "source": [
    "math.sqrt(corr.shape[0] / 2)"
   ]
  },
  {
   "cell_type": "code",
   "execution_count": null,
   "id": "c8308757",
   "metadata": {},
   "outputs": [],
   "source": []
  }
 ],
 "metadata": {
  "kernelspec": {
   "display_name": "Python 3 (ipykernel)",
   "language": "python",
   "name": "python3"
  },
  "language_info": {
   "codemirror_mode": {
    "name": "ipython",
    "version": 3
   },
   "file_extension": ".py",
   "mimetype": "text/x-python",
   "name": "python",
   "nbconvert_exporter": "python",
   "pygments_lexer": "ipython3",
   "version": "3.10.9"
  }
 },
 "nbformat": 4,
 "nbformat_minor": 5
}
